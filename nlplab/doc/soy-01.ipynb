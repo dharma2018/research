{
 "cells": [
  {
   "cell_type": "code",
   "execution_count": 53,
   "metadata": {
    "scrolled": true
   },
   "outputs": [
    {
     "name": "stdout",
     "output_type": "stream",
     "text": [
      "[   [1, 2, 3],\n",
      "    [4, 5],\n",
      "    [6, 7, 8, 9]]\n"
     ]
    }
   ],
   "source": [
    "# 쉽고 예쁘게 출력하기\n",
    "import pprint\n",
    "\n",
    "numbers = [[1, 2, 3], [4, 5], [6, 7, 8, 9]]\n",
    "pprint.pprint(numbers, width=20, indent=4)"
   ]
  },
  {
   "cell_type": "markdown",
   "metadata": {},
   "source": [
    "## MaxScoreTokenizer"
   ]
  },
  {
   "cell_type": "markdown",
   "metadata": {},
   "source": [
    "참고사이트: https://github.com/lovit/soy"
   ]
  },
  {
   "cell_type": "code",
   "execution_count": 84,
   "metadata": {},
   "outputs": [
    {
     "data": {
      "text/plain": [
       "['서울시', '노원', '중계동', '주공', '6', '단지']"
      ]
     },
     "execution_count": 84,
     "metadata": {},
     "output_type": "execute_result"
    }
   ],
   "source": [
    "import pprint\n",
    "import sys\n",
    "sys.path.append('./libs')\n",
    "\n",
    "from soy.nlp.tokenizer import RegexTokenizer,LTokenizer,MaxScoreTokenizer\n",
    "\n",
    "scores = {'서울시':0.3,'노원구':0.7,'중계동':0.2,'주공':0.5,'단지':0.5}\n",
    "tokenizer = MaxScoreTokenizer(scores=scores)\n",
    "tokenizer.tokenize('서울시노원중계동주공6단지')"
   ]
  },
  {
   "cell_type": "code",
   "execution_count": 89,
   "metadata": {},
   "outputs": [],
   "source": [
    "from pprint import pprint\n",
    "import sys\n",
    "sys.path.append('./libs')\n",
    "\n",
    "from soy.nlp.tokenizer import RegexTokenizer,LTokenizer,MaxScoreTokenizer\n",
    "\n",
    "scores = {'파스':0.3,'파스타':0.7,'좋아요':0.2,'좋아':0.5}\n",
    "\n",
    "tokenizer = MaxScoreTokenizer(scores=scores)"
   ]
  },
  {
   "cell_type": "code",
   "execution_count": 107,
   "metadata": {},
   "outputs": [
    {
     "name": "stdout",
     "output_type": "stream",
     "text": [
      "flatten=False\n",
      "[   [   ('난', 0, 1, 0.0, 1),\n",
      "        ('파스타', 1, 4, 0.7, 3),\n",
      "        ('가', 4, 5, 0.0, 1)],\n",
      "    [   ('좋아', 0, 2, 0.5, 2),\n",
      "        ('요', 2, 3, 0.0, 1)]]\n"
     ]
    }
   ],
   "source": [
    "print('flatten=False')\n",
    "pprint(tokenizer.tokenize('난파스타가 좋아요',flatten=False),indent=4,width=30)"
   ]
  },
  {
   "cell_type": "code",
   "execution_count": 110,
   "metadata": {},
   "outputs": [
    {
     "name": "stdout",
     "output_type": "stream",
     "text": [
      "flatten=True\n",
      "[   '난',\n",
      "    '파스타',\n",
      "    '가',\n",
      "    '좋아',\n",
      "    '요']\n"
     ]
    }
   ],
   "source": [
    "print('flatten=True')\n",
    "pprint(tokenizer.tokenize('난파스타가 좋아요'),indent=4,width=20)"
   ]
  },
  {
   "cell_type": "markdown",
   "metadata": {},
   "source": [
    "## LTokenizer"
   ]
  },
  {
   "cell_type": "code",
   "execution_count": 123,
   "metadata": {},
   "outputs": [],
   "source": [
    "from pprint import pprint\n",
    "import sys\n",
    "sys.path.append('./libs')\n",
    "\n",
    "from soy.nlp.tokenizer import RegexTokenizer,LTokenizer,MaxScoreTokenizer\n",
    "\n",
    "scores = {'데이':0.5,'데이터':0.5,'데이터마이닝':0.5,'공부':0.5,'공부중':0.5}\n",
    "\n",
    "tokenizer = LTokenizer(scores=scores)"
   ]
  },
  {
   "cell_type": "code",
   "execution_count": 125,
   "metadata": {},
   "outputs": [
    {
     "name": "stdout",
     "output_type": "stream",
     "text": [
      "\n",
      "flatten=True\n",
      "sent=데이터마이닝을 공부한다\n",
      "['데이터마이닝', '을', '공부', '한다']\n"
     ]
    }
   ],
   "source": [
    "print('\\nflatten=True\\nsent=데이터마이닝을 공부한다')\n",
    "print(tokenizer.tokenize('데이터마이닝을 공부한다'))"
   ]
  },
  {
   "cell_type": "code",
   "execution_count": 126,
   "metadata": {},
   "outputs": [
    {
     "name": "stdout",
     "output_type": "stream",
     "text": [
      "\n",
      "flatten=False\n",
      "sent=데이터마이닝을 공부한다\n",
      "[('데이터마이닝', '을'), ('공부', '한다')]\n"
     ]
    }
   ],
   "source": [
    "print('\\nflatten=False\\nsent=데이터마이닝을 공부한다')\n",
    "print(tokenizer.tokenize('데이터마이닝을 공부한다',flatten=False))"
   ]
  },
  {
   "cell_type": "code",
   "execution_count": 127,
   "metadata": {},
   "outputs": [
    {
     "name": "stdout",
     "output_type": "stream",
     "text": [
      "\n",
      "flatten=False\n",
      "sent=데이터 분석을 위해서 데이터마이닝을 공부한다\n",
      "[('데이터', ''), ('분석을', ''), ('위해서', ''), ('데이터마이닝', '을'), ('공부', '한다')]\n"
     ]
    }
   ],
   "source": [
    "print('\\nflatten=False\\nsent=데이터 분석을 위해서 데이터마이닝을 공부한다')\n",
    "print(tokenizer.tokenize('데이터 분석을 위해서 데이터마이닝을 공부한다',flatten=False))"
   ]
  },
  {
   "cell_type": "code",
   "execution_count": 128,
   "metadata": {},
   "outputs": [
    {
     "name": "stdout",
     "output_type": "stream",
     "text": [
      "\n",
      "flatten=True\n",
      "sent=데이터 분석을 위해서 데이터마이닝을 공부한다\n",
      "['데이터', '분석을', '위해서', '데이터마이닝', '을', '공부', '한다']\n"
     ]
    }
   ],
   "source": [
    "print('\\nflatten=True\\nsent=데이터 분석을 위해서 데이터마이닝을 공부한다')\n",
    "print(tokenizer.tokenize('데이터 분석을 위해서 데이터마이닝을 공부한다'))"
   ]
  },
  {
   "cell_type": "code",
   "execution_count": 129,
   "metadata": {},
   "outputs": [
    {
     "name": "stdout",
     "output_type": "stream",
     "text": [
      "\n",
      "tolerance=0.0\n",
      "sent=데이터마이닝을 공부중이다\n",
      "['데이터마이닝', '을', '공부중', '이다']\n"
     ]
    }
   ],
   "source": [
    "print('\\ntolerance=0.0\\nsent=데이터마이닝을 공부중이다')\n",
    "print(tokenizer.tokenize('데이터마이닝을 공부중이다'))"
   ]
  },
  {
   "cell_type": "code",
   "execution_count": 130,
   "metadata": {},
   "outputs": [
    {
     "name": "stdout",
     "output_type": "stream",
     "text": [
      "\n",
      "tolerance=0.1\n",
      "sent=데이터마이닝을 공부중이다\n",
      "['데이터마이닝', '을', '공부중', '이다']\n"
     ]
    }
   ],
   "source": [
    "print('\\ntolerance=0.1\\nsent=데이터마이닝을 공부중이다')\n",
    "print(tokenizer.tokenize('데이터마이닝을 공부중이다',tolerance=0.1))"
   ]
  },
  {
   "cell_type": "markdown",
   "metadata": {},
   "source": [
    "## RegexTokenizer"
   ]
  },
  {
   "cell_type": "code",
   "execution_count": 131,
   "metadata": {},
   "outputs": [],
   "source": [
    "from pprint import pprint\n",
    "import sys\n",
    "sys.path.append('./libs')\n",
    "\n",
    "from soy.nlp.tokenizer import RegexTokenizer,LTokenizer,MaxScoreTokenizer\n",
    "\n",
    "tokenizer = RegexTokenizer()"
   ]
  },
  {
   "cell_type": "code",
   "execution_count": 132,
   "metadata": {},
   "outputs": [],
   "source": [
    "sents = [\n",
    "\t'이렇게연속된문장은잘리지않습니다만',\n",
    "\t'숫자123이영어abc에썩여있으면ㅋㅋ잘리겠죠',\n",
    "\t'띄어쓰기가 포함되어 있으면 이정보는10점꼭띄워야죠'\n",
    "]"
   ]
  },
  {
   "cell_type": "code",
   "execution_count": 133,
   "metadata": {},
   "outputs": [
    {
     "name": "stdout",
     "output_type": "stream",
     "text": [
      "이렇게연속된문장은잘리지않습니다만\n",
      "->['이렇게연속된문장은잘리지않습니다만']\n",
      "\n",
      "숫자123이영어abc에썩여있으면ㅋㅋ잘리겠죠\n",
      "->['숫자', '123', '이영어', 'abc', '에썩여있으면', 'ㅋㅋ', '잘리겠죠']\n",
      "\n",
      "띄어쓰기가 포함되어 있으면 이정보는10점꼭띄워야죠\n",
      "->['띄어쓰기가', '포함되어', '있으면', '이정보는', '10', '점꼭띄워야죠']\n",
      "\n"
     ]
    }
   ],
   "source": [
    "for sent in sents:\n",
    "\tprint('%s\\n->%s\\n' %(sent,tokenizer.tokenize(sent)))"
   ]
  },
  {
   "cell_type": "code",
   "execution_count": 135,
   "metadata": {},
   "outputs": [
    {
     "name": "stdout",
     "output_type": "stream",
     "text": [
      "이렇게연속된문장은잘리지않습니다만\n",
      "->[['이렇게연속된문장은잘리지않습니다만']]\n",
      "\n",
      "숫자123이영어abc에썩여있으면ㅋㅋ잘리겠죠\n",
      "->[['숫자', '123', '이영어', 'abc', '에썩여있으면', 'ㅋㅋ', '잘리겠죠']]\n",
      "\n",
      "띄어쓰기가 포함되어 있으면 이정보는10점꼭띄워야죠\n",
      "->[['띄어쓰기가'], ['포함되어'], ['있으면'], ['이정보는', '10', '점꼭띄워야죠']]\n",
      "\n"
     ]
    }
   ],
   "source": [
    "for sent in sents:\n",
    "\tprint('%s\\n->%s\\n' %(sent,tokenizer.tokenize(sent,flatten=False)))"
   ]
  },
  {
   "cell_type": "code",
   "execution_count": null,
   "metadata": {},
   "outputs": [],
   "source": []
  }
 ],
 "metadata": {
  "kernelspec": {
   "display_name": "Python 3",
   "language": "python",
   "name": "python3"
  },
  "language_info": {
   "codemirror_mode": {
    "name": "ipython",
    "version": 3
   },
   "file_extension": ".py",
   "mimetype": "text/x-python",
   "name": "python",
   "nbconvert_exporter": "python",
   "pygments_lexer": "ipython3",
   "version": "3.6.4"
  }
 },
 "nbformat": 4,
 "nbformat_minor": 2
}

{
 "cells": [
  {
   "cell_type": "markdown",
   "metadata": {},
   "source": [
    "## 1.Install Apache Solr Locally\n",
    "### 설치\n",
    " \n",
    "* version solr-6.4.2 다운로드  \n",
    "* http://archive.apache.org/dist/lucene/solr/6.4.2/solr-6.4.2.zip \n",
    "* SOLR_HOME 환경변수 등록  \n",
    "* PATH에 SOLR_HOME\\bin 추가 \n",
    " \n",
    "\n",
    "## 2. Start/Stop Apache Solr Locally\n",
    "* 서버 실행 상태 확인 \n",
    "cd solr-6.4.2 \n",
    "solr status \n",
    "* Start Apache Solr\n",
    "solr start \n",
    "기본 포터: 8983 \n",
    "* 오류 메시지\n",
    "ERROR: Solr home directory C:\\solr-6.4.2 must contain solr.xml\n",
    "[조치]\n",
    "설치 폴더의 Server 폴더에 있는 solr.xml 파일을 환경변수에 등록한 SOLR_HOME 위치로 복사,\n",
    "실행하면 정상 동작한다.\n",
    "solr status \n",
    "\n",
    "다른 port로 실행하고자 할 경우 \n",
    "solr start –p 9000 \n",
    "\n",
    "* Stop Apache Solr\n",
    "solr stop -all 또는 중지하고하는 서버의 port 번호를 지정해주어야 한다.\n",
    "\n",
    "* Restart Apache Solr\n",
    "solr restart 재시작하고하는 서버의 port 번호를 지정해야 한다.\n",
    "\n"
   ]
  },
  {
   "cell_type": "code",
   "execution_count": null,
   "metadata": {},
   "outputs": [],
   "source": []
  }
 ],
 "metadata": {
  "kernelspec": {
   "display_name": "Python 3",
   "language": "python",
   "name": "python3"
  },
  "language_info": {
   "codemirror_mode": {
    "name": "ipython",
    "version": 3
   },
   "file_extension": ".py",
   "mimetype": "text/x-python",
   "name": "python",
   "nbconvert_exporter": "python",
   "pygments_lexer": "ipython3",
   "version": "3.6.4"
  }
 },
 "nbformat": 4,
 "nbformat_minor": 2
}

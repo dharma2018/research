{
 "cells": [
  {
   "cell_type": "markdown",
   "metadata": {},
   "source": [
    "# Python 3.6의 Anaconda 환경에서 KoNLPy를 설치하는 과정을 기술함\n",
    "## Windows 7 64bit 환경에서 설치함\n",
    "\n",
    "## 설치 과정\n",
    "\n",
    "* 00. JDK 다운로드\n",
    "> \n",
    "wget --no-cookies --no-check-certificate --header \"Cookie: oraclelicense=accept-securebackup-cookie\" http://download.oracle.com/otn-pub/java/jdk/8u171-b11/512cd62ec5174c3487ac17c61aaa89e8/jdk-8u171-windows-x64.exe\n",
    "> \n",
    "\n",
    "* 01. JAVA JDK 설치\n",
    "\n",
    "* 02. 환경설정\n",
    "> \n",
    "SET JAVA_HOME=C:\\Program Files\\Java\\jdk1.8.0_171\n",
    "> \n",
    "\n",
    "* 03. JPype1 설치\n",
    "> \n",
    "pip install JPype1\n",
    "> \n",
    "\n",
    "* 04.konlpy 설치\n",
    "> \n",
    "pip install konlpy\n",
    "> \n",
    "\n"
   ]
  },
  {
   "cell_type": "code",
   "execution_count": null,
   "metadata": {},
   "outputs": [],
   "source": []
  }
 ],
 "metadata": {
  "kernelspec": {
   "display_name": "Python 3",
   "language": "python",
   "name": "python3"
  },
  "language_info": {
   "codemirror_mode": {
    "name": "ipython",
    "version": 3
   },
   "file_extension": ".py",
   "mimetype": "text/x-python",
   "name": "python",
   "nbconvert_exporter": "python",
   "pygments_lexer": "ipython3",
   "version": "3.6.4"
  }
 },
 "nbformat": 4,
 "nbformat_minor": 2
}
